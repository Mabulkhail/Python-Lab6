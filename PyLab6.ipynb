{
 "cells": [
  {
   "cell_type": "code",
   "execution_count": 1,
   "id": "11546340",
   "metadata": {},
   "outputs": [
    {
     "name": "stdout",
     "output_type": "stream",
     "text": [
      "Amal number: 1234567890\n",
      "This is invalid number\n",
      "This is invalid number\n",
      "Abdullah number: 5555555555\n",
      "This is invalid number\n",
      "This is invalid number\n",
      "Layla number: 5555555555\n"
     ]
    }
   ],
   "source": [
    "phone_book = {\n",
    "    \"Amal\": 1234567890,\n",
    "    \"Mohammed\": None,\n",
    "    \"Khadijah\":\"0555@55555\",\n",
    "    \"Abdullah\": 5555555555,\n",
    "    \"Rawan\": 555,\n",
    "    \"Faisal\": 555,\n",
    "    \"Layla\": 5555555555\n",
    "}\n",
    "\n",
    "\n",
    "for key, value in phone_book.items():\n",
    "    try:\n",
    "        value = int(value)\n",
    "        if value is None:\n",
    "            print(f\"Sorry, {key} number is not found\")\n",
    "\n",
    "        elif len(str(value)) < 10 or len(str(value)) >10: #You can use this condition instead elif len(str(value)) != 10:\n",
    "            print(\"This is invalid number\")\n",
    "        else:\n",
    "            print(f\"{key} number: {value}\")\n",
    "        \n",
    "    except:\n",
    "        print(\"This is invalid number\")\n",
    "    "
   ]
  },
  {
   "cell_type": "code",
   "execution_count": null,
   "id": "73ce7014",
   "metadata": {},
   "outputs": [],
   "source": []
  }
 ],
 "metadata": {
  "kernelspec": {
   "display_name": "Python 3 (ipykernel)",
   "language": "python",
   "name": "python3"
  },
  "language_info": {
   "codemirror_mode": {
    "name": "ipython",
    "version": 3
   },
   "file_extension": ".py",
   "mimetype": "text/x-python",
   "name": "python",
   "nbconvert_exporter": "python",
   "pygments_lexer": "ipython3",
   "version": "3.11.3"
  }
 },
 "nbformat": 4,
 "nbformat_minor": 5
}
